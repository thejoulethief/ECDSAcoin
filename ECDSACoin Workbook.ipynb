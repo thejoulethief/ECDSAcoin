{
 "cells": [
  {
   "cell_type": "markdown",
   "metadata": {},
   "source": [
    "[slides](https://docs.google.com/presentation/d/19K9nVjuSOCrZGM6lmFeEEarTm2xZwDSiZEIzf-Ywr5o/edit?usp=sharing)\n",
    "\n",
    "[python-ecdsa docs](https://github.com/warner/python-ecdsa)"
   ]
  },
  {
   "cell_type": "markdown",
   "metadata": {},
   "source": [
    "# Signing our First Message with ECDSA"
   ]
  },
  {
   "cell_type": "code",
   "execution_count": 39,
   "metadata": {},
   "outputs": [
    {
     "name": "stdout",
     "output_type": "stream",
     "text": [
      "b'\\x80\\x03C@f\\xce\\x15\\xca\\xc1i\\xb8\\x9b\\xc17>6N\\x1f\\xae\\xb5c\\xca\\x99\\x05\\xebC\\xfd\\xe8]?\\x87\\xfda\\xb9+Tc\\xda!\\xe4\\xe1\\xc4\\x94.0\\xc15\\x1bo2T\\xa0L\\x030\\x14d`\\xb7\\x13\\xf8\\xfd\\xcd\\xcc4\\xde5Qq\\x00.'\n"
     ]
    }
   ],
   "source": [
    "from ecdsa import SigningKey, SECP256k1\n",
    "\n",
    "private_key = SigningKey.generate(curve=SECP256k1)\n",
    "public_key = private_key.get_verifying_key()\n",
    "\n",
    "message = b\"Execute order 66\"\n",
    "signature = private_key.sign(message)\n",
    "\n",
    "print(serialize(signature))"
   ]
  },
  {
   "cell_type": "code",
   "execution_count": 40,
   "metadata": {},
   "outputs": [
    {
     "data": {
      "text/plain": [
       "True"
      ]
     },
     "execution_count": 40,
     "metadata": {},
     "output_type": "execute_result"
    }
   ],
   "source": [
    "public_key.verify(signature, message)"
   ]
  },
  {
   "cell_type": "code",
   "execution_count": 11,
   "metadata": {},
   "outputs": [
    {
     "ename": "BadSignatureError",
     "evalue": "",
     "output_type": "error",
     "traceback": [
      "\u001b[1;31m---------------------------------------------------------------------------\u001b[0m",
      "\u001b[1;31mBadSignatureError\u001b[0m                         Traceback (most recent call last)",
      "\u001b[1;32m<ipython-input-11-272e00152f73>\u001b[0m in \u001b[0;36m<module>\u001b[1;34m()\u001b[0m\n\u001b[0;32m      1\u001b[0m \u001b[0mmessage\u001b[0m \u001b[1;33m=\u001b[0m \u001b[1;34mb\"Actually, I want you to help the Jedi.\"\u001b[0m\u001b[1;33m\u001b[0m\u001b[0m\n\u001b[1;32m----> 2\u001b[1;33m \u001b[0mpublic_key\u001b[0m\u001b[1;33m.\u001b[0m\u001b[0mverify\u001b[0m\u001b[1;33m(\u001b[0m\u001b[0msignature\u001b[0m\u001b[1;33m,\u001b[0m \u001b[0mmessage\u001b[0m\u001b[1;33m)\u001b[0m\u001b[1;33m\u001b[0m\u001b[0m\n\u001b[0m",
      "\u001b[1;32mc:\\users\\anupam\\digital-cash\\venv\\lib\\site-packages\\ecdsa\\keys.py\u001b[0m in \u001b[0;36mverify\u001b[1;34m(self, signature, data, hashfunc, sigdecode)\u001b[0m\n\u001b[0;32m     99\u001b[0m         \u001b[0mhashfunc\u001b[0m \u001b[1;33m=\u001b[0m \u001b[0mhashfunc\u001b[0m \u001b[1;32mor\u001b[0m \u001b[0mself\u001b[0m\u001b[1;33m.\u001b[0m\u001b[0mdefault_hashfunc\u001b[0m\u001b[1;33m\u001b[0m\u001b[0m\n\u001b[0;32m    100\u001b[0m         \u001b[0mdigest\u001b[0m \u001b[1;33m=\u001b[0m \u001b[0mhashfunc\u001b[0m\u001b[1;33m(\u001b[0m\u001b[0mdata\u001b[0m\u001b[1;33m)\u001b[0m\u001b[1;33m.\u001b[0m\u001b[0mdigest\u001b[0m\u001b[1;33m(\u001b[0m\u001b[1;33m)\u001b[0m\u001b[1;33m\u001b[0m\u001b[0m\n\u001b[1;32m--> 101\u001b[1;33m         \u001b[1;32mreturn\u001b[0m \u001b[0mself\u001b[0m\u001b[1;33m.\u001b[0m\u001b[0mverify_digest\u001b[0m\u001b[1;33m(\u001b[0m\u001b[0msignature\u001b[0m\u001b[1;33m,\u001b[0m \u001b[0mdigest\u001b[0m\u001b[1;33m,\u001b[0m \u001b[0msigdecode\u001b[0m\u001b[1;33m)\u001b[0m\u001b[1;33m\u001b[0m\u001b[0m\n\u001b[0m\u001b[0;32m    102\u001b[0m \u001b[1;33m\u001b[0m\u001b[0m\n\u001b[0;32m    103\u001b[0m     \u001b[1;32mdef\u001b[0m \u001b[0mverify_digest\u001b[0m\u001b[1;33m(\u001b[0m\u001b[0mself\u001b[0m\u001b[1;33m,\u001b[0m \u001b[0msignature\u001b[0m\u001b[1;33m,\u001b[0m \u001b[0mdigest\u001b[0m\u001b[1;33m,\u001b[0m \u001b[0msigdecode\u001b[0m\u001b[1;33m=\u001b[0m\u001b[0msigdecode_string\u001b[0m\u001b[1;33m)\u001b[0m\u001b[1;33m:\u001b[0m\u001b[1;33m\u001b[0m\u001b[0m\n",
      "\u001b[1;32mc:\\users\\anupam\\digital-cash\\venv\\lib\\site-packages\\ecdsa\\keys.py\u001b[0m in \u001b[0;36mverify_digest\u001b[1;34m(self, signature, digest, sigdecode)\u001b[0m\n\u001b[0;32m    111\u001b[0m         \u001b[1;32mif\u001b[0m \u001b[0mself\u001b[0m\u001b[1;33m.\u001b[0m\u001b[0mpubkey\u001b[0m\u001b[1;33m.\u001b[0m\u001b[0mverifies\u001b[0m\u001b[1;33m(\u001b[0m\u001b[0mnumber\u001b[0m\u001b[1;33m,\u001b[0m \u001b[0msig\u001b[0m\u001b[1;33m)\u001b[0m\u001b[1;33m:\u001b[0m\u001b[1;33m\u001b[0m\u001b[0m\n\u001b[0;32m    112\u001b[0m             \u001b[1;32mreturn\u001b[0m \u001b[1;32mTrue\u001b[0m\u001b[1;33m\u001b[0m\u001b[0m\n\u001b[1;32m--> 113\u001b[1;33m         \u001b[1;32mraise\u001b[0m \u001b[0mBadSignatureError\u001b[0m\u001b[1;33m\u001b[0m\u001b[0m\n\u001b[0m\u001b[0;32m    114\u001b[0m \u001b[1;33m\u001b[0m\u001b[0m\n\u001b[0;32m    115\u001b[0m \u001b[1;32mclass\u001b[0m \u001b[0mSigningKey\u001b[0m\u001b[1;33m:\u001b[0m\u001b[1;33m\u001b[0m\u001b[0m\n",
      "\u001b[1;31mBadSignatureError\u001b[0m: "
     ]
    }
   ],
   "source": [
    "#Counterfiet message produces a BadSignatureError \n",
    "message = b\"Actually, I want you guys to help the Jedi.\"\n",
    "public_key.verify(signature, message)"
   ]
  },
  {
   "cell_type": "markdown",
   "metadata": {},
   "source": [
    "# Defining ECDSACoin\n",
    "\n",
    "* A coin is just a list of transfers, just like with PNGCoin. \n",
    "    * Where transfers were photographs of signatures in PNGCoin, they are ECDSA digital signatures in ECDSACoin\n",
    "* The `public_key` in the last transfer is who owns the coin\n",
    "* To spend the coin append a new transfer. Use the public key of the person you are sending to, and sign it using your private key."
   ]
  },
  {
   "cell_type": "code",
   "execution_count": 41,
   "metadata": {},
   "outputs": [],
   "source": [
    "class Transfer:\n",
    "    \n",
    "    def __init__(self, signature, public_key):\n",
    "        self.signature = signature\n",
    "        self.public_key = public_key\n",
    "\n",
    "class ECDSAcoin:\n",
    "\n",
    "    def __init__(self, transfers):\n",
    "        self.transfers = transfers\n",
    "        \n"
   ]
  },
  {
   "cell_type": "code",
   "execution_count": 19,
   "metadata": {},
   "outputs": [],
   "source": [
    "# The usual suspects ... \n",
    "# SECP256k1 is a detail about the \"magical multiplication\" used under the covers\n",
    "\n",
    "bank_private_key = SigningKey.generate(curve=SECP256k1)\n",
    "bob_private_key = SigningKey.generate(curve=SECP256k1)\n",
    "alice_private_key = SigningKey.generate(curve=SECP256k1)\n",
    "\n",
    "bank_public_key = bank_private_key.get_verifying_key()\n",
    "bob_public_key = bob_private_key.get_verifying_key()\n",
    "alice_public_key = alice_private_key.get_verifying_key()"
   ]
  },
  {
   "cell_type": "code",
   "execution_count": 42,
   "metadata": {},
   "outputs": [],
   "source": [
    "from utils import serialize\n",
    "\n",
    "def issue(public_key):    \n",
    "    \n",
    "    message = serialize(public_key)\n",
    "    signature = bank_private_key.sign(message)\n",
    "    transfer = Transfer(\n",
    "        signature=signature,\n",
    "        public_key=public_key)\n",
    "    \n",
    "    coin = ECDSAcoin([transfer])\n",
    "    return coin"
   ]
  },
  {
   "cell_type": "markdown",
   "metadata": {},
   "source": [
    "# Validating the First Transfer"
   ]
  },
  {
   "cell_type": "code",
   "execution_count": 45,
   "metadata": {},
   "outputs": [],
   "source": [
    "def validate(coin):\n",
    "    transfer = coin.transfers[0]\n",
    "    message = serialize(transfer.public_key)\n",
    "    bank_public_key.verify(transfer.signature, message)\n",
    "    \n",
    "coin1 = issue(alice_public_key)\n",
    "\n",
    "#Attempting to validate a legitimate coin\n",
    "validate(coin1)"
   ]
  },
  {
   "cell_type": "code",
   "execution_count": 52,
   "metadata": {},
   "outputs": [
    {
     "name": "stdout",
     "output_type": "stream",
     "text": [
      "These are not standard Galactic Federation credits. Alert Lord Vader!\n"
     ]
    }
   ],
   "source": [
    "#Attempting to validate a forged coin\n",
    "\n",
    "from ecdsa import BadSignatureError\n",
    "\n",
    "message = serialize(bob_public_key)\n",
    "signature = bob_private_key.sign(message)\n",
    "transfer = Transfer(\n",
    "    signature=signature,\n",
    "    public_key=bob_public_key)\n",
    "    \n",
    "forged_coin = ECDSAcoin([transfer])\n",
    "\n",
    "try:\n",
    "    validate(forged_coin)\n",
    "except BadSignatureError:\n",
    "    print('These are not standard Galactic Federation credits. Alert Lord Vader!')"
   ]
  },
  {
   "cell_type": "markdown",
   "metadata": {},
   "source": [
    "# Validating Subsequent Transfers"
   ]
  },
  {
   "cell_type": "code",
   "execution_count": null,
   "metadata": {},
   "outputs": [],
   "source": []
  },
  {
   "cell_type": "code",
   "execution_count": 74,
   "metadata": {},
   "outputs": [],
   "source": [
    "def transfer_message(signature, public_key):\n",
    "    return serialize({\"previous_signature\":signature, \"next_owner_public_key\": public_key})\n",
    "\n",
    "def validate(coin):\n",
    "    \n",
    "    try:\n",
    "        #Verifying inital \"genesis\" transaction\n",
    "        transfer = coin.transfers[0]\n",
    "        message = serialize(transfer.public_key)\n",
    "        bank_public_key.verify(transfer.signature, message)\n",
    "    \n",
    "        #Subsequent tx\n",
    "    \n",
    "        previous_transfer = coin.transfers[0]\n",
    "        for next_transfer in coin.transfers[1:]:\n",
    "            message = transfer_message(previous_transfer.signature, next_transfer.public_key)\n",
    "            previous_transfer.public_key.verify(next_transfer.signature, message)\n",
    "    except BadSignatureError:\n",
    "        print('Fradulant transaction detected!')"
   ]
  },
  {
   "cell_type": "code",
   "execution_count": 61,
   "metadata": {},
   "outputs": [],
   "source": [
    "def get_owner(coin):\n",
    "    database = {alice_public_key : 'alice', \n",
    "               bob_public_key : 'bob',\n",
    "               bank_public_key : 'bank'}\n",
    "    public_key = coin.transfers[-1].public_key\n",
    "    return database[public_key]"
   ]
  },
  {
   "cell_type": "code",
   "execution_count": 80,
   "metadata": {},
   "outputs": [
    {
     "name": "stdout",
     "output_type": "stream",
     "text": [
      "The coin is owned by alice\n",
      "The coin is owned by bob\n",
      "Fradulant transaction detected!\n"
     ]
    }
   ],
   "source": [
    "coin1 = issue(alice_public_key)\n",
    "\n",
    "print(\"The coin is owned by\",get_owner(coin1))\n",
    "\n",
    "message = transfer_message(coin1.transfers[-1].signature, bob_public_key)\n",
    "signature = alice_private_key.sign(message)\n",
    "transfer = Transfer(signature=signature, public_key = bob_public_key)\n",
    "coin1.transfers.append(transfer)\n",
    "\n",
    "print(\"The coin is owned by\", get_owner(coin1))\n",
    "validate(coin1)\n",
    "\n",
    "#Alice tries to pay her debts off at the bank by signing a transaction from Bob to the bank\n",
    "\n",
    "message = transfer_message(coin1.transfers[-1].signature, bank_public_key)\n",
    "signature = alice_private_key.sign(message)\n",
    "transfer = Transfer(signature=signature, public_key = bob_public_key)\n",
    "coin1.transfers.append(transfer)\n",
    "\n",
    "validate(coin1)\n"
   ]
  },
  {
   "cell_type": "markdown",
   "metadata": {},
   "source": [
    "# Serialization"
   ]
  },
  {
   "cell_type": "code",
   "execution_count": 76,
   "metadata": {},
   "outputs": [
    {
     "name": "stdout",
     "output_type": "stream",
     "text": [
      "Does this coin file exist? False\n"
     ]
    }
   ],
   "source": [
    "from utils import from_disk, to_disk\n",
    "\n",
    "import os\n",
    "\n",
    "filename = \"coin1.ecdsacoin\"\n",
    "\n",
    "print(\"Does this coin file exist?\", os.path.isfile(filename))"
   ]
  },
  {
   "cell_type": "code",
   "execution_count": 77,
   "metadata": {},
   "outputs": [],
   "source": [
    "to_disk(coin1, filename)"
   ]
  },
  {
   "cell_type": "code",
   "execution_count": 78,
   "metadata": {},
   "outputs": [
    {
     "name": "stdout",
     "output_type": "stream",
     "text": [
      "Does this coin file exist? True\n"
     ]
    }
   ],
   "source": [
    "print(\"Does this coin file exist?\", os.path.isfile(filename))"
   ]
  },
  {
   "cell_type": "code",
   "execution_count": 81,
   "metadata": {},
   "outputs": [
    {
     "name": "stdout",
     "output_type": "stream",
     "text": [
      "<__main__.ECDSAcoin object at 0x00000195FA48B5F8>\n"
     ]
    }
   ],
   "source": [
    "coin1 = from_disk(filename)\n",
    "print(coin1)"
   ]
  },
  {
   "cell_type": "markdown",
   "metadata": {},
   "source": [
    "# The Finished Product\n",
    "\n",
    "[ecdsacoin.py](ecdsacoin.py)"
   ]
  },
  {
   "cell_type": "code",
   "execution_count": 21,
   "metadata": {},
   "outputs": [],
   "source": [
    "import ecdsacoin\n",
    "\n",
    "coin = ecdsacoin.issue(alice_public_key)\n",
    "coin.validate()\n",
    "\n",
    "alice_to_bob = Transfer(\n",
    "    signature=alice_private_key.sign(coin.transfers[0].signature),\n",
    "    public_key=bob_public_key,\n",
    ")\n",
    "\n",
    "coin.transfers.append(alice_to_bob)\n",
    "coin.validate()"
   ]
  }
 ],
 "metadata": {
  "kernelspec": {
   "display_name": "Python 3",
   "language": "python",
   "name": "python3"
  },
  "language_info": {
   "codemirror_mode": {
    "name": "ipython",
    "version": 3
   },
   "file_extension": ".py",
   "mimetype": "text/x-python",
   "name": "python",
   "nbconvert_exporter": "python",
   "pygments_lexer": "ipython3",
   "version": "3.6.5"
  }
 },
 "nbformat": 4,
 "nbformat_minor": 2
}
